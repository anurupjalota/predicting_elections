{
 "cells": [
  {
   "cell_type": "markdown",
   "metadata": {
    "id": "gUDdsmdSZ77O"
   },
   "source": [
    "## Import"
   ]
  },
  {
   "cell_type": "code",
   "execution_count": 1,
   "metadata": {
    "colab": {
     "base_uri": "https://localhost:8080/"
    },
    "id": "dEaXJvACTcFI",
    "outputId": "e67844ec-200d-4856-be9b-9d851319b0f6"
   },
   "outputs": [
    {
     "name": "stdout",
     "output_type": "stream",
     "text": [
      "Requirement already satisfied: googletrans in d:\\softwares\\python\\lib\\site-packages (3.0.0)\n",
      "Requirement already satisfied: httpx==0.13.3 in d:\\softwares\\python\\lib\\site-packages (from googletrans) (0.13.3)\n",
      "Requirement already satisfied: idna==2.* in d:\\softwares\\python\\lib\\site-packages (from httpx==0.13.3->googletrans) (2.10)\n",
      "Requirement already satisfied: certifi in d:\\softwares\\python\\lib\\site-packages (from httpx==0.13.3->googletrans) (2020.11.8)\n",
      "Requirement already satisfied: sniffio in d:\\softwares\\python\\lib\\site-packages (from httpx==0.13.3->googletrans) (1.2.0)\n",
      "Requirement already satisfied: rfc3986<2,>=1.3 in d:\\softwares\\python\\lib\\site-packages (from httpx==0.13.3->googletrans) (1.4.0)\n",
      "Requirement already satisfied: chardet==3.* in d:\\softwares\\python\\lib\\site-packages (from httpx==0.13.3->googletrans) (3.0.4)\n",
      "Requirement already satisfied: httpcore==0.9.* in d:\\softwares\\python\\lib\\site-packages (from httpx==0.13.3->googletrans) (0.9.1)\n",
      "Requirement already satisfied: hstspreload in d:\\softwares\\python\\lib\\site-packages (from httpx==0.13.3->googletrans) (2020.10.20)\n",
      "Requirement already satisfied: contextvars>=2.1; python_version < \"3.7\" in d:\\softwares\\python\\lib\\site-packages (from sniffio->httpx==0.13.3->googletrans) (2.4)\n",
      "Requirement already satisfied: h2==3.* in d:\\softwares\\python\\lib\\site-packages (from httpcore==0.9.*->httpx==0.13.3->googletrans) (3.2.0)\n",
      "Requirement already satisfied: h11<0.10,>=0.8 in d:\\softwares\\python\\lib\\site-packages (from httpcore==0.9.*->httpx==0.13.3->googletrans) (0.9.0)\n",
      "Requirement already satisfied: immutables>=0.9 in d:\\softwares\\python\\lib\\site-packages (from contextvars>=2.1; python_version < \"3.7\"->sniffio->httpx==0.13.3->googletrans) (0.14)\n",
      "Requirement already satisfied: hyperframe<6,>=5.2.0 in d:\\softwares\\python\\lib\\site-packages (from h2==3.*->httpcore==0.9.*->httpx==0.13.3->googletrans) (5.2.0)\n",
      "Requirement already satisfied: hpack<4,>=3.0 in d:\\softwares\\python\\lib\\site-packages (from h2==3.*->httpcore==0.9.*->httpx==0.13.3->googletrans) (3.0.0)\n",
      "Note: you may need to restart the kernel to use updated packages.\n"
     ]
    },
    {
     "name": "stderr",
     "output_type": "stream",
     "text": [
      "You are using pip version 18.1, however version 20.3b1 is available.\n",
      "You should consider upgrading via the 'python -m pip install --upgrade pip' command.\n"
     ]
    }
   ],
   "source": [
    "pip install googletrans"
   ]
  },
  {
   "cell_type": "code",
   "execution_count": 25,
   "metadata": {
    "id": "iRe4z5iCgIU-"
   },
   "outputs": [],
   "source": [
    "import os\n",
    "import tweepy as tw\n",
    "import pandas as pd\n",
    "import re\n",
    "\n",
    "import json\n",
    "import pickle\n",
    "import time\n",
    "\n",
    "#translate\n",
    "from googletrans import Translator\n",
    "translator = Translator(service_urls=['translate.google.com'])"
   ]
  },
  {
   "cell_type": "markdown",
   "metadata": {
    "id": "lFZZTMSZOO0V"
   },
   "source": [
    "# Twitter"
   ]
  },
  {
   "cell_type": "markdown",
   "metadata": {
    "id": "YXNi0DbxgMAw"
   },
   "source": [
    "## Tweepy credentials"
   ]
  },
  {
   "cell_type": "code",
   "execution_count": 2,
   "metadata": {
    "id": "Qbb6xCxui_mw"
   },
   "outputs": [],
   "source": [
    "consumer_key= 'enter here'\n",
    "consumer_secret= 'enter here'\n",
    "access_token= 'enter here'\n",
    "access_token_secret= 'enter here'\n",
    "auth = tw.OAuthHandler(consumer_key, consumer_secret)\n",
    "auth.set_access_token(access_token, access_token_secret)\n",
    "api = tw.API(auth,wait_on_rate_limit=True)"
   ]
  },
  {
   "cell_type": "code",
   "execution_count": 3,
   "metadata": {
    "id": "5oOGkFlOkdh3"
   },
   "outputs": [],
   "source": [
    "def deEmojify(text):\n",
    "    regrex_pattern = re.compile(pattern = \"[\"\n",
    "        u\"\\U0001F600-\\U0001F64F\"  # emoticons\n",
    "        u\"\\U0001F300-\\U0001F5FF\"  # symbols & pictographs\n",
    "        u\"\\U0001F680-\\U0001F6FF\"  # transport & map symbols\n",
    "        u\"\\U0001F1E0-\\U0001F1FF\"  # flags (iOS)\n",
    "                           \"]+\", flags = re.UNICODE)\n",
    "    return regrex_pattern.sub(r'',text)"
   ]
  },
  {
   "cell_type": "markdown",
   "metadata": {
    "id": "xSR4jFUu5j3D"
   },
   "source": [
    "## Search"
   ]
  },
  {
   "cell_type": "code",
   "execution_count": 4,
   "metadata": {
    "id": "-5-oUriRlWTP"
   },
   "outputs": [],
   "source": [
    "search_words = \"cpi\"\n",
    "date_since = \"2019-01-16\""
   ]
  },
  {
   "cell_type": "code",
   "execution_count": 6,
   "metadata": {
    "colab": {
     "base_uri": "https://localhost:8080/"
    },
    "id": "dfqbrYcIlUmI",
    "outputId": "e9a9cbe5-bfd7-4b06-e1c3-03e307a66e59",
    "scrolled": false
   },
   "outputs": [
    {
     "name": "stdout",
     "output_type": "stream",
     "text": [
      "--------------------------------------------------------------------------------------------------------------------------------------------------------------------------------------------------------------------------------------------------------------------------------------------------------------------------------------------------------------------------------------------------------------------------------------------------------------------------------------------------------------------------------------------------------------------------------------------------------------------------------------------------------------------------------------------------------------------------------------------------------------------------------------------------------------------------------------------------------------------------------------------------------------------------------------------------------------------------------------------------------------------------------------------------------------------------------------------------------------------------------------------------------------------------------------------------------------------------------------------------------------------------------------------------------------------------------------------------------------------------------------------------------------------------------------------------------------------------------------------------------------------------------------------------------------------------------------------------------------------------------------------------------------------------------------------------------------------------------------------------------------------------------------------------------------------------------------------------------------------------------------------------------------------------------------------------------------------------------------------------------------------------------------------------------------------------------------------------------------------------------------------------------------------------------------------------------------------------------------------------------------------------------------------------------------------------------------------------------------------------------------------"
     ]
    }
   ],
   "source": [
    "tweets = tw.Cursor(api.search,\n",
    "              q=search_words,\n",
    "              lang=\"hi\",\n",
    "              since=date_since,tweet_mode=\"extended\").items(2300)\n",
    "l=[]\n",
    "# Iterate and print tweets\n",
    "for tweet in tweets:\n",
    "    # print(re.sub(\"\\n\",\"\",tweet.full_text))\n",
    "    print(\"-\",end=\"\")\n",
    "    try:\n",
    "        l.append(re.sub(\"\\n\",\"\",tweet.retweeted_status.full_text))\n",
    "    except:\n",
    "        l.append(re.sub(\"\\n\",\"\",tweet.full_text))\n",
    "l=list(set(l))"
   ]
  },
  {
   "cell_type": "code",
   "execution_count": 8,
   "metadata": {
    "colab": {
     "base_uri": "https://localhost:8080/"
    },
    "id": "CFXdD8l2XNdv",
    "outputId": "ddb6b6a2-348d-41ec-c837-451b1a1cc9ff"
   },
   "outputs": [
    {
     "name": "stdout",
     "output_type": "stream",
     "text": [
      "Wall time: 10.4 ms\n"
     ]
    }
   ],
   "source": [
    "%%time\n",
    "for i in range(len(l)):\n",
    "    l[i] = re.sub(\"(@[A-Za-z0-9_]+)|(http\\S+)|(#)|(&amp;)\",\" \",l[i])\n",
    "    l[i] = re.sub(\"।\",\".\",l[i])\n",
    "    l[i] = deEmojify(l[i])"
   ]
  },
  {
   "cell_type": "code",
   "execution_count": 13,
   "metadata": {
    "colab": {
     "base_uri": "https://localhost:8080/"
    },
    "id": "Gm_g5KNCdpO2",
    "outputId": "ef05c3e7-3db5-470a-9c10-162fce2671e8"
   },
   "outputs": [
    {
     "data": {
      "text/plain": [
       "180"
      ]
     },
     "execution_count": 13,
     "metadata": {},
     "output_type": "execute_result"
    }
   ],
   "source": [
    "len(l)"
   ]
  },
  {
   "cell_type": "code",
   "execution_count": 11,
   "metadata": {
    "id": "t5Z_NqQ3eFjH"
   },
   "outputs": [],
   "source": [
    "c=[]\n",
    "for i in l:\n",
    "    for j in i.split(\".\"):\n",
    "        if(j!=\"\"):\n",
    "            c.append(j)"
   ]
  },
  {
   "cell_type": "code",
   "execution_count": 27,
   "metadata": {
    "colab": {
     "base_uri": "https://localhost:8080/"
    },
    "id": "hRtU0tT2f6Hf",
    "outputId": "eead1682-a854-4dad-8500-63b886a8fb32"
   },
   "outputs": [
    {
     "name": "stdout",
     "output_type": "stream",
     "text": [
      "Wall time: 2min 21s\n"
     ]
    }
   ],
   "source": [
    "%%time\n",
    "final=[]\n",
    "for q in c:\n",
    "    try:\n",
    "        final.append(translator.translate(q,src=\"hi\",dest=\"en\").text)\n",
    "    except:\n",
    "        pass"
   ]
  },
  {
   "cell_type": "code",
   "execution_count": 26,
   "metadata": {
    "colab": {
     "base_uri": "https://localhost:8080/",
     "height": 303
    },
    "id": "Y6bU22HamuD3",
    "outputId": "02360a52-f6b8-4872-9a1a-a03c397ff916",
    "scrolled": false
   },
   "outputs": [
    {
     "data": {
      "text/plain": [
       "'MLA Amanatullah Khan elected for the third time Chairman of Delhi Waqf Board'"
      ]
     },
     "execution_count": 26,
     "metadata": {},
     "output_type": "execute_result"
    }
   ],
   "source": [
    "translator.translate(\"विधायक अमानतुल्ला खान तीसरी बार चुने गए दिल्ली वक्फ बोर्ड के अध्यक्ष \",src=\"hi\",dest=\"en\").text"
   ]
  },
  {
   "cell_type": "code",
   "execution_count": 29,
   "metadata": {
    "id": "PIYldUX1Z16P"
   },
   "outputs": [],
   "source": [
    "with open(\"cpi_hi.txt\", \"wb\") as fp:   #Pickling\n",
    "      pickle.dump(final, fp)"
   ]
  },
  {
   "cell_type": "code",
   "execution_count": 19,
   "metadata": {},
   "outputs": [],
   "source": [
    "with open('congress_en.txt',\"rb\") as fp:\n",
    "    b = pickle.load(fp)"
   ]
  },
  {
   "cell_type": "markdown",
   "metadata": {
    "id": "wpT81WoB5mdC"
   },
   "source": [
    "## Timeline\n"
   ]
  },
  {
   "cell_type": "code",
   "execution_count": null,
   "metadata": {
    "id": "Chv7LOIhkfFA"
   },
   "outputs": [],
   "source": [
    "public_tweets = api.home_timeline(tweet_mode=\"extended\")\n",
    "l=[]\n",
    "for tweet in public_tweets:\n",
    "    l.append(re.sub(\"\\n\",\"\",tweet.full_text))\n",
    "l"
   ]
  }
 ],
 "metadata": {
  "colab": {
   "collapsed_sections": [
    "lFZZTMSZOO0V",
    "YXNi0DbxgMAw",
    "xSR4jFUu5j3D",
    "wpT81WoB5mdC"
   ],
   "name": "proj0.ipynb",
   "provenance": []
  },
  "kernelspec": {
   "display_name": "Python 3",
   "language": "python",
   "name": "python3"
  },
  "language_info": {
   "codemirror_mode": {
    "name": "ipython",
    "version": 3
   },
   "file_extension": ".py",
   "mimetype": "text/x-python",
   "name": "python",
   "nbconvert_exporter": "python",
   "pygments_lexer": "ipython3",
   "version": "3.6.8"
  }
 },
 "nbformat": 4,
 "nbformat_minor": 1
}
